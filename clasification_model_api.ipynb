{
  "cells": [
    {
      "cell_type": "code",
      "execution_count": 1,
      "metadata": {
        "colab": {
          "base_uri": "https://localhost:8080/"
        },
        "id": "6RBIvnbGsVUm",
        "outputId": "a3bbb71f-e620-4646-ccb3-b0a3b9c003e7"
      },
      "outputs": [
        {
          "name": "stdout",
          "output_type": "stream",
          "text": [
            "Requirement already satisfied: h5py in c:\\users\\samee\\appdata\\local\\programs\\python\\python311\\lib\\site-packages (3.10.0)\n",
            "Requirement already satisfied: numpy>=1.17.3 in c:\\users\\samee\\appdata\\local\\programs\\python\\python311\\lib\\site-packages (from h5py) (1.25.2)\n"
          ]
        },
        {
          "name": "stderr",
          "output_type": "stream",
          "text": [
            "\n",
            "[notice] A new release of pip is available: 23.2.1 -> 23.3.1\n",
            "[notice] To update, run: python.exe -m pip install --upgrade pip\n"
          ]
        }
      ],
      "source": [
        "!pip install h5py"
      ]
    },
    {
      "cell_type": "code",
      "execution_count": 2,
      "metadata": {
        "colab": {
          "base_uri": "https://localhost:8080/"
        },
        "id": "3O1GpklGqw-8",
        "outputId": "929ba51b-d629-4088-f871-980ebc906e12"
      },
      "outputs": [
        {
          "name": "stdout",
          "output_type": "stream",
          "text": [
            "Requirement already satisfied: librosa in c:\\users\\samee\\appdata\\local\\programs\\python\\python311\\lib\\site-packages (0.10.1)\n",
            "Requirement already satisfied: audioread>=2.1.9 in c:\\users\\samee\\appdata\\local\\programs\\python\\python311\\lib\\site-packages (from librosa) (3.0.1)\n",
            "Requirement already satisfied: numpy!=1.22.0,!=1.22.1,!=1.22.2,>=1.20.3 in c:\\users\\samee\\appdata\\local\\programs\\python\\python311\\lib\\site-packages (from librosa) (1.25.2)\n",
            "Requirement already satisfied: scipy>=1.2.0 in c:\\users\\samee\\appdata\\local\\programs\\python\\python311\\lib\\site-packages (from librosa) (1.11.3)\n",
            "Requirement already satisfied: scikit-learn>=0.20.0 in c:\\users\\samee\\appdata\\local\\programs\\python\\python311\\lib\\site-packages (from librosa) (1.3.1)\n",
            "Requirement already satisfied: joblib>=0.14 in c:\\users\\samee\\appdata\\local\\programs\\python\\python311\\lib\\site-packages (from librosa) (1.3.2)\n",
            "Requirement already satisfied: decorator>=4.3.0 in c:\\users\\samee\\appdata\\roaming\\python\\python311\\site-packages (from librosa) (5.1.1)\n",
            "Requirement already satisfied: numba>=0.51.0 in c:\\users\\samee\\appdata\\local\\programs\\python\\python311\\lib\\site-packages (from librosa) (0.58.0)\n",
            "Requirement already satisfied: soundfile>=0.12.1 in c:\\users\\samee\\appdata\\local\\programs\\python\\python311\\lib\\site-packages (from librosa) (0.12.1)\n",
            "Requirement already satisfied: pooch>=1.0 in c:\\users\\samee\\appdata\\local\\programs\\python\\python311\\lib\\site-packages (from librosa) (1.7.0)\n",
            "Requirement already satisfied: soxr>=0.3.2 in c:\\users\\samee\\appdata\\local\\programs\\python\\python311\\lib\\site-packages (from librosa) (0.3.7)\n",
            "Requirement already satisfied: typing-extensions>=4.1.1 in c:\\users\\samee\\appdata\\local\\programs\\python\\python311\\lib\\site-packages (from librosa) (4.8.0)\n",
            "Requirement already satisfied: lazy-loader>=0.1 in c:\\users\\samee\\appdata\\local\\programs\\python\\python311\\lib\\site-packages (from librosa) (0.3)\n",
            "Requirement already satisfied: msgpack>=1.0 in c:\\users\\samee\\appdata\\local\\programs\\python\\python311\\lib\\site-packages (from librosa) (1.0.7)\n",
            "Requirement already satisfied: llvmlite<0.42,>=0.41.0dev0 in c:\\users\\samee\\appdata\\local\\programs\\python\\python311\\lib\\site-packages (from numba>=0.51.0->librosa) (0.41.0)\n",
            "Requirement already satisfied: platformdirs>=2.5.0 in c:\\users\\samee\\appdata\\roaming\\python\\python311\\site-packages (from pooch>=1.0->librosa) (3.11.0)\n",
            "Requirement already satisfied: packaging>=20.0 in c:\\users\\samee\\appdata\\local\\programs\\python\\python311\\lib\\site-packages (from pooch>=1.0->librosa) (23.1)\n",
            "Requirement already satisfied: requests>=2.19.0 in c:\\users\\samee\\appdata\\local\\programs\\python\\python311\\lib\\site-packages (from pooch>=1.0->librosa) (2.31.0)\n",
            "Requirement already satisfied: threadpoolctl>=2.0.0 in c:\\users\\samee\\appdata\\local\\programs\\python\\python311\\lib\\site-packages (from scikit-learn>=0.20.0->librosa) (3.2.0)\n",
            "Requirement already satisfied: cffi>=1.0 in c:\\users\\samee\\appdata\\local\\programs\\python\\python311\\lib\\site-packages (from soundfile>=0.12.1->librosa) (1.16.0)\n",
            "Requirement already satisfied: pycparser in c:\\users\\samee\\appdata\\local\\programs\\python\\python311\\lib\\site-packages (from cffi>=1.0->soundfile>=0.12.1->librosa) (2.21)\n",
            "Requirement already satisfied: charset-normalizer<4,>=2 in c:\\users\\samee\\appdata\\local\\programs\\python\\python311\\lib\\site-packages (from requests>=2.19.0->pooch>=1.0->librosa) (3.3.0)\n",
            "Requirement already satisfied: idna<4,>=2.5 in c:\\users\\samee\\appdata\\local\\programs\\python\\python311\\lib\\site-packages (from requests>=2.19.0->pooch>=1.0->librosa) (3.4)\n",
            "Requirement already satisfied: urllib3<3,>=1.21.1 in c:\\users\\samee\\appdata\\local\\programs\\python\\python311\\lib\\site-packages (from requests>=2.19.0->pooch>=1.0->librosa) (2.0.6)\n",
            "Requirement already satisfied: certifi>=2017.4.17 in c:\\users\\samee\\appdata\\local\\programs\\python\\python311\\lib\\site-packages (from requests>=2.19.0->pooch>=1.0->librosa) (2023.7.22)\n"
          ]
        },
        {
          "name": "stderr",
          "output_type": "stream",
          "text": [
            "\n",
            "[notice] A new release of pip is available: 23.2.1 -> 23.3.1\n",
            "[notice] To update, run: python.exe -m pip install --upgrade pip\n"
          ]
        }
      ],
      "source": [
        "!pip install librosa"
      ]
    },
    {
      "cell_type": "code",
      "execution_count": 3,
      "metadata": {
        "colab": {
          "base_uri": "https://localhost:8080/"
        },
        "id": "KNClfJzYrZyZ",
        "outputId": "d5fff956-fa02-460a-f62d-12bebe72cafd"
      },
      "outputs": [
        {
          "name": "stdout",
          "output_type": "stream",
          "text": [
            "Requirement already satisfied: resampy in c:\\users\\samee\\appdata\\local\\programs\\python\\python311\\lib\\site-packages (0.4.2)"
          ]
        },
        {
          "name": "stderr",
          "output_type": "stream",
          "text": [
            "\n",
            "[notice] A new release of pip is available: 23.2.1 -> 23.3.1\n",
            "[notice] To update, run: python.exe -m pip install --upgrade pip\n"
          ]
        },
        {
          "name": "stdout",
          "output_type": "stream",
          "text": [
            "\n",
            "Requirement already satisfied: numpy>=1.17 in c:\\users\\samee\\appdata\\local\\programs\\python\\python311\\lib\\site-packages (from resampy) (1.25.2)\n",
            "Requirement already satisfied: numba>=0.53 in c:\\users\\samee\\appdata\\local\\programs\\python\\python311\\lib\\site-packages (from resampy) (0.58.0)\n",
            "Requirement already satisfied: llvmlite<0.42,>=0.41.0dev0 in c:\\users\\samee\\appdata\\local\\programs\\python\\python311\\lib\\site-packages (from numba>=0.53->resampy) (0.41.0)\n"
          ]
        }
      ],
      "source": [
        "!pip install resampy"
      ]
    },
    {
      "cell_type": "code",
      "execution_count": 4,
      "metadata": {
        "colab": {
          "base_uri": "https://localhost:8080/"
        },
        "id": "H8_sWW8DBS1Q",
        "outputId": "79a2d780-516d-4bb9-faa2-67dcaf6a676c"
      },
      "outputs": [
        {
          "name": "stderr",
          "output_type": "stream",
          "text": [
            "\n",
            "[notice] A new release of pip is available: 23.2.1 -> 23.3.1\n",
            "[notice] To update, run: python.exe -m pip install --upgrade pip\n"
          ]
        },
        {
          "name": "stdout",
          "output_type": "stream",
          "text": [
            "Requirement already satisfied: Flask in c:\\users\\samee\\appdata\\local\\programs\\python\\python311\\lib\\site-packages (3.0.0)\n",
            "Requirement already satisfied: Werkzeug>=3.0.0 in c:\\users\\samee\\appdata\\local\\programs\\python\\python311\\lib\\site-packages (from Flask) (3.0.0)\n",
            "Requirement already satisfied: Jinja2>=3.1.2 in c:\\users\\samee\\appdata\\local\\programs\\python\\python311\\lib\\site-packages (from Flask) (3.1.2)\n",
            "Requirement already satisfied: itsdangerous>=2.1.2 in c:\\users\\samee\\appdata\\local\\programs\\python\\python311\\lib\\site-packages (from Flask) (2.1.2)\n",
            "Requirement already satisfied: click>=8.1.3 in c:\\users\\samee\\appdata\\local\\programs\\python\\python311\\lib\\site-packages (from Flask) (8.1.7)\n",
            "Requirement already satisfied: blinker>=1.6.2 in c:\\users\\samee\\appdata\\local\\programs\\python\\python311\\lib\\site-packages (from Flask) (1.6.3)\n",
            "Requirement already satisfied: colorama in c:\\users\\samee\\appdata\\local\\programs\\python\\python311\\lib\\site-packages (from click>=8.1.3->Flask) (0.4.6)\n",
            "Requirement already satisfied: MarkupSafe>=2.0 in c:\\users\\samee\\appdata\\local\\programs\\python\\python311\\lib\\site-packages (from Jinja2>=3.1.2->Flask) (2.1.3)\n"
          ]
        }
      ],
      "source": [
        "!pip install Flask"
      ]
    },
    {
      "cell_type": "code",
      "execution_count": 5,
      "metadata": {
        "colab": {
          "base_uri": "https://localhost:8080/"
        },
        "id": "KhV-PfCG5oC1",
        "outputId": "b3d58d49-8d58-4231-8545-c9229bb4280f"
      },
      "outputs": [
        {
          "name": "stdout",
          "output_type": "stream",
          "text": [
            "[[-4.7930688e+02  3.3591377e+01 -9.7077881e+01  2.3700635e+00\n",
            "   3.1434282e+01  6.2042217e+00  1.4069927e+01  1.8935783e+01\n",
            "  -3.0297949e+00 -1.2422903e+01  2.0809381e+00  1.6302244e+01\n",
            "  -7.8942782e-01  2.1725557e+00  1.1287567e+01  3.1281388e-03\n",
            "  -1.8840927e+00  3.1845334e+00 -1.2717131e+00 -2.1490655e+00\n",
            "   4.9932556e+00  5.9189594e-01 -1.4628373e+00 -1.2132211e+00\n",
            "  -1.0034363e+00  3.4635222e-01  5.2200282e-01 -4.0775051e+00\n",
            "  -3.8355372e+00  1.2214981e+00  9.0390009e-01 -2.7659383e+00\n",
            "  -2.6997206e+00 -3.6031213e-01 -2.5491524e+00 -4.9156663e-01\n",
            "   5.8847897e-02 -2.6864188e+00 -1.5710214e+00  1.8359640e-01]]\n",
            "[1 0 3 2]\n",
            "1/1 [==============================] - 1s 752ms/step\n",
            "[[2.0269938e-02 2.9469345e-06 9.7972715e-01]]\n",
            "Predicted Class: [2]\n",
            "Class of the frog is: Stream lined Frog\n"
          ]
        }
      ],
      "source": [
        "import numpy as np\n",
        "import librosa\n",
        "import resampy\n",
        "from tensorflow.keras.models import load_model\n",
        "from sklearn.preprocessing import LabelEncoder\n",
        "from keras.utils import to_categorical\n",
        "import pandas as pd\n",
        "\n",
        "# Load the saved model\n",
        "model = load_model('model\\model_checkpoint123.h5')\n",
        "\n",
        "# Define a function to preprocess audio similar to your training data\n",
        "def preprocess_audio(audio_path):\n",
        "    audio, sample_rate = librosa.load(audio_path, res_type='kaiser_fast')\n",
        "    mfccs_features = librosa.feature.mfcc(y=audio, sr=sample_rate, n_mfcc=40)\n",
        "    mfccs_scaled_features = np.mean(mfccs_features.T, axis=0)\n",
        "    return mfccs_scaled_features\n",
        "\n",
        "# Path to the audio file you want to classify\n",
        "audio_file_path = 'wav_file\\Streamlined Frog_Testing_(1).wav'\n",
        "\n",
        "# Preprocess the input audio\n",
        "input_features = preprocess_audio(audio_file_path)\n",
        "input_features = np.expand_dims(input_features, axis=0)  # Add a batch dimension\n",
        "\n",
        "print(input_features)\n",
        "\n",
        "# Load the class labels from your CSV file or use the same labels used in training\n",
        "metadata = pd.read_csv('csv file\\Book1.csv')\n",
        "class_labels = metadata['Species'].unique()\n",
        "\n",
        "print(class_labels)\n",
        "\n",
        "# Create a label encoder and fit it with the class labels\n",
        "labelencoder = LabelEncoder()\n",
        "labelencoder.fit(class_labels)\n",
        "\n",
        "# Make predictions using the loaded model\n",
        "predictions = model.predict(input_features)\n",
        "\n",
        "print(predictions)\n",
        "# Inverse transform the label encoding to get the predicted class\n",
        "predicted_class = labelencoder.inverse_transform(np.argmax(predictions, axis=1))\n",
        "\n",
        "if predicted_class == 0:\n",
        "    print(\"Predicted Class:\", predicted_class)\n",
        "    print(\"Class of the frog is: Indian Skipper Frog\")\n",
        "elif predicted_class == 1:\n",
        "    print(\"Predicted Class:\", predicted_class)\n",
        "    print(\"Class of the frog is: Common Shrub Frog\")\n",
        "elif predicted_class == 2:\n",
        "    print(\"Predicted Class:\", predicted_class)\n",
        "    print(\"Class of the frog is: Stream lined Frog\")\n",
        "elif predicted_class == 3:\n",
        "    print(\"Predicted Class:\", predicted_class)\n",
        "    print(\"Class of the frog is: Rohan's Globular Frog\")"
      ]
    },
    {
      "cell_type": "code",
      "execution_count": 6,
      "metadata": {},
      "outputs": [
        {
          "name": "stdout",
          "output_type": "stream",
          "text": [
            "['1' '1' '1' '1' '1' '1' '1' '1' '1' '1' '1' '1' '1' '1' '1' '1' '1' '1'\n",
            " '1' '1' '1' '1' '1' '1' '1' '1' '1' '1' '1' '1' '1' '1' '1' '1' '1' '1'\n",
            " '1' '1' '1' '1' '1' '1' '1' '1' '1' '1' '1' '1' '1' '1' '1' '1' '1' '1'\n",
            " '1' '1' '1' '1' '1' '1' '1' '1' '1' '1' '1' '1' '1' '1' '1' '1' '1' '1'\n",
            " '1' '1' '1' '1' '1' '1' '1' '1' '1' '1' '1' '1' '1' '1' '1' '1' '1' '1'\n",
            " '1' '1' '1' '1' '1' '1' '1' '1' '1' '1' '1' '1' '1' '1' '1' '1' '1' '1'\n",
            " '1' '1' '1' '1' '1' '1' '1' '1' '1' '1' '1' '1' '1' '1' '1' '1' '1' '1'\n",
            " '1' '1' '1' '1' '1' '1' '1' '1' '1' '1' '1' '1' '1' '1' '1' '1' '1' '1'\n",
            " '1' '1' '1' '1' '1' '1' '1' '1' '1' '1' '1' '1' '1' '1' '1' '1' '1' '1'\n",
            " '1' '1' '1' '1' '1' '1' '1' '1' '1' '1' '1' '1' '1' '1' '1' '1' '1' '1'\n",
            " '1' '1' '1' '1' '1' '1' '1' '1' '1' '1' '1' '1' '1' '1' '1' '1' '1' '1'\n",
            " '1' '1' '0' '0' '0' '0' '0' '0' '0' '0' '0' '0' '0' '0' '0' '0' '0' '0'\n",
            " '0' '0' '0' '0' '0' '0' '0' '0' '0' '0' '0' '0' '0' '0' '0' '0' '0' '0'\n",
            " '0' '0' '0' '0' '0' '0' '0' '0' '0' '0' '0' '0' '0' '0' '0' '0' '0' '0'\n",
            " '0' '0' '0' '0' '0' '0' '0' '0' '0' '0' '0' '0' '0' '0' '0' '0' '0' '0'\n",
            " '0' '0' '0' '0' '0' '0' '0' '0' '0' '0' '0' '0' '0' '0' '0' '0' '0' '0'\n",
            " '0' '0' '0' '0' '0' '0' '0' '0' '0' '0' '0' '0' '0' '0' '0' '0' '0' '0'\n",
            " '0' '0' '0' '0' '0' '0' '0' '0' '0' '0' '0' '0' '0' '0' '0' '0' '0' '0'\n",
            " '0' '0' '0' '0' '0' '0' '0' '0' '0' '0' '0' '0' '0' '0' '0' '0' '0' '0'\n",
            " '0' '0' '0' '0' '0' '0' '0' '0' '0' '0' '0' '0' '0' '0' '0' '0' '0' '0'\n",
            " '0' '0' '0' '0' '0' '0' '0' '0' '0' '0' '0' '0' '0' '0' '0' '0' '0' '0'\n",
            " '0' '0' '0' '0' '0' '0' '0' '0' '0' '0' '0' '0' '0' '0' '0' '0' '0' '0'\n",
            " '0' '0' '0' '0' '3' '3' '3' '3' '3' '3' '3' '3' '3' '3' '3' '3' '3' '3'\n",
            " '3' '3' '3' '3' '3' '3' '3' '3' '3' '3' '3' '3' '3' '3' '3' '3' '3' '3'\n",
            " '3' '3' '3' '3' '3' '3' '3' '3' '3' '3' '3' '3' '3' '3' '3' '3' '3' '3'\n",
            " '3' '3' '3' '3' '3' '3' '3' '3' '3' '3' '3' '3' '3' '3' '3' '3' '3' '3'\n",
            " '3' '3' '3' '3' '3' '3' '3' '3' '3' '3' '3' '3' '3' '3' '3' '3' '3' '3'\n",
            " '3' '3' '3' '3' '3' '3' '3' '3' '3' '3' '3' '3' '3' '3' '3' '3' '3' '3'\n",
            " '3' '3' '3' '3' '3' '3' '3' '3' '3' '3' '3' '3' '3' '3' '3' '3' '3' '3'\n",
            " '3' '3' '3' '3' '3' '3' '3' '3' '3' '3' '3' '3' '3' '3' '3' '3' '3' '3'\n",
            " '3' '3' '3' '3' '3' '3' '3' '3' '3' '3' '3' '3' '3' '3' '3' '3' '3' '3'\n",
            " '3' '3' '3' '3' '3' '3' '3' '3' '3' '3' '3' '3' '3' '3' '3' '3' '3' '3'\n",
            " '3' '3' '3' '3' '3' '3' '3' '3' '3' '3' '3' '3' '3' '3' '3' '3' '3' '3'\n",
            " '3' '3' '3' '3' '3' '3' '2' '2' '2' '2' '2' '2' '2' '2' '2' '2' '2' '2'\n",
            " '2' '2' '2' '2' '2' '2' '2' '2' '2' '2' '2' '2' '2' '2' '2' '2' '2' '2'\n",
            " '2' '2' '2' '2' '2' '2' '2' '2' '2' '2' '2' '2' '2' '2' '2' '2' '2' '2'\n",
            " '2' '2' '2' '2' '2' '2' '2' '2' '2' '2' '2' '2' '2' '2' '2' '2' '2' '2'\n",
            " '2' '2' '2' '2' '2' '2' '2' '2' '2' '2' '2' '2' '2' '2' '2' '2' '2' '2'\n",
            " '2' '2' '2' '2' '2' '2' '2' '2' '2' '2' '2' '2' '2' '2' '2' '2' '2' '2'\n",
            " '2' '2' '2' '2' '2' '2' '2' '2' '2' '2' '2' '2' '2' '2' '2' '2' '2' '2'\n",
            " '2' '2' '2' '2' '2' '2' '2' '2' '2' '2' '2' '2' '2' '2' '2' '2' '2' '2'\n",
            " '2' '2' '2' '2' '2' '2' '2' '2' '2' '2' '2' '2' '2' '2' '2' '2' '2' '2'\n",
            " '2' '2' '2' '2' '2' '2' '2' '2' '2' '2' '2' '2' '2' '2' '2' '2' '2' '2'\n",
            " '2' '2' '2' '2' '2' '2' '2' '2' '2' '2' '2' '2' '2' '2' '2' '2' '2' '2'\n",
            " '2' '2' '2' '2' '2' '2' '2' '2']\n"
          ]
        }
      ],
      "source": [
        "import numpy as np\n",
        "import csv\n",
        "\n",
        "with open('csv file\\Book1.csv', 'r') as csv_file:\n",
        "    csv_reader = csv.reader(csv_file)\n",
        "    \n",
        "    # Skip the header row if it exists\n",
        "    next(csv_reader, None)\n",
        "    \n",
        "    # Extract data from the desired column (index 1 in this example)\n",
        "    column_data = [row[1] for row in csv_reader]\n",
        "\n",
        "np_array = np.array(column_data)\n",
        "np.save('csv file/classes.npy', np_array)\n",
        "\n",
        "print(np_array)\n"
      ]
    },
    {
      "cell_type": "code",
      "execution_count": 7,
      "metadata": {
        "id": "py2Tca9J68St"
      },
      "outputs": [
        {
          "name": "stdout",
          "output_type": "stream",
          "text": [
            " * Serving Flask app '__main__'\n",
            " * Debug mode: off\n"
          ]
        },
        {
          "name": "stderr",
          "output_type": "stream",
          "text": [
            "WARNING: This is a development server. Do not use it in a production deployment. Use a production WSGI server instead.\n",
            " * Running on all addresses (0.0.0.0)\n",
            " * Running on http://127.0.0.1:5000\n",
            " * Running on http://192.168.8.149:5000\n",
            "Press CTRL+C to quit\n"
          ]
        },
        {
          "name": "stdout",
          "output_type": "stream",
          "text": [
            "[[-2.74455933e+02  1.08778580e+02 -3.52235565e+01  4.91433258e+01\n",
            "  -3.31224251e+01  2.13042221e+01 -3.14051437e+01  2.10084510e+00\n",
            "  -8.57734299e+00 -1.07206106e+01  3.91481972e+00 -1.75359802e+01\n",
            "   6.42898083e+00 -1.36887245e+01  2.60674453e+00 -1.03318968e+01\n",
            "  -1.43234849e+00 -2.96534801e+00 -8.93621635e+00  1.60047448e+00\n",
            "  -9.26586533e+00  2.12501860e+00 -8.78726673e+00  5.47287762e-01\n",
            "  -1.78198528e+00  3.36142123e-01  4.20001745e+00  1.03211844e+00\n",
            "   6.04059505e+00 -1.36657023e+00  3.94792461e+00 -2.47413516e+00\n",
            "  -3.37925404e-01 -1.75649238e+00 -2.06783342e+00 -1.42254436e+00\n",
            "  -3.40337610e+00 -2.59722650e-01 -4.05834150e+00  2.60878593e-01]]\n",
            "[1 0 3 2]\n",
            "1/1 [==============================] - 0s 65ms/step\n"
          ]
        },
        {
          "name": "stderr",
          "output_type": "stream",
          "text": [
            "C:\\Users\\samee\\AppData\\Local\\Temp\\ipykernel_19148\\2608205571.py:57: DeprecationWarning: Conversion of an array with ndim > 0 to a scalar is deprecated, and will error in future. Ensure you extract a single element from your array before performing this operation. (Deprecated NumPy 1.25.)\n",
            "  predicted_class = int(labelencoder.inverse_transform(np.argmax(predictions, axis=1)))\n",
            "192.168.137.15 - - [01/Nov/2023 13:05:22] \"POST /classify-audio HTTP/1.1\" 200 -\n"
          ]
        },
        {
          "name": "stdout",
          "output_type": "stream",
          "text": [
            "[[1.0000000e+00 6.8099198e-12 1.6789052e-09]]\n",
            "[[-328.02838     144.92273     -52.876835     60.92563     -42.776745\n",
            "    37.537914    -31.753841      9.050543     -8.51643      -8.739603\n",
            "     7.9603815   -18.198483     12.815205    -12.163446      9.1262665\n",
            "    -8.7001095     4.8120728     0.97455      -4.271381      3.3725924\n",
            "    -7.6448936     4.472234    -11.615185      2.803228     -4.547663\n",
            "     0.37116566    0.5630235    -0.72119737    4.443641     -3.849355\n",
            "     5.101619     -3.9801743     1.503508     -3.7218695    -1.2440597\n",
            "    -1.9573526    -3.080693      1.7237481    -4.136771      1.6246748 ]]\n",
            "[1 0 3 2]\n",
            "1/1 [==============================] - 0s 78ms/step\n"
          ]
        },
        {
          "name": "stderr",
          "output_type": "stream",
          "text": [
            "C:\\Users\\samee\\AppData\\Local\\Temp\\ipykernel_19148\\2608205571.py:57: DeprecationWarning: Conversion of an array with ndim > 0 to a scalar is deprecated, and will error in future. Ensure you extract a single element from your array before performing this operation. (Deprecated NumPy 1.25.)\n",
            "  predicted_class = int(labelencoder.inverse_transform(np.argmax(predictions, axis=1)))\n",
            "192.168.137.15 - - [01/Nov/2023 13:05:38] \"POST /classify-audio HTTP/1.1\" 200 -\n"
          ]
        },
        {
          "name": "stdout",
          "output_type": "stream",
          "text": [
            "[[1.000000e+00 7.584273e-16 6.199923e-12]]\n",
            "[[-2.9080371e+02  1.1599185e+02 -4.9604313e+01  6.1273922e+01\n",
            "  -4.7006042e+01  3.7022648e+01 -3.9189861e+01  9.0048208e+00\n",
            "  -1.2387198e+01 -1.0321306e+01  7.5757451e+00 -1.9761154e+01\n",
            "   1.3174659e+01 -1.2798705e+01  1.1093096e+01 -8.1985521e+00\n",
            "   1.8505012e+00 -2.8566811e+00 -2.3338420e+00  3.9253883e+00\n",
            "  -1.0375906e+01  3.4338243e+00 -9.8342552e+00  1.9089370e+00\n",
            "  -6.5619206e+00 -5.6342822e-01 -2.3063898e+00 -6.1805409e-01\n",
            "   4.0021753e+00 -4.4228978e+00  3.3787158e+00 -4.4861555e+00\n",
            "  -3.1099286e-02 -4.5454817e+00 -1.0484967e+00 -3.8109818e+00\n",
            "  -1.6459168e+00 -1.2531523e+00 -3.4878309e+00  2.9566038e+00]]\n",
            "[1 0 3 2]\n",
            "1/1 [==============================] - 0s 53ms/step\n"
          ]
        },
        {
          "name": "stderr",
          "output_type": "stream",
          "text": [
            "C:\\Users\\samee\\AppData\\Local\\Temp\\ipykernel_19148\\2608205571.py:57: DeprecationWarning: Conversion of an array with ndim > 0 to a scalar is deprecated, and will error in future. Ensure you extract a single element from your array before performing this operation. (Deprecated NumPy 1.25.)\n",
            "  predicted_class = int(labelencoder.inverse_transform(np.argmax(predictions, axis=1)))\n",
            "192.168.137.15 - - [01/Nov/2023 13:05:51] \"POST /classify-audio HTTP/1.1\" 200 -\n"
          ]
        },
        {
          "name": "stdout",
          "output_type": "stream",
          "text": [
            "[[1.0000000e+00 1.8265440e-13 1.6537552e-10]]\n"
          ]
        }
      ],
      "source": [
        "import os\n",
        "import numpy as np\n",
        "from flask import Flask, request, jsonify\n",
        "from tensorflow.keras.models import load_model\n",
        "import librosa\n",
        "import librosa.display\n",
        "\n",
        "app = Flask(__name__)\n",
        "\n",
        "# Load the trained model\n",
        "model_path = 'model_checkpoint_newtrained.h5'\n",
        "loaded_model = load_model(model_path)\n",
        "\n",
        "# Load the label encoder\n",
        "from sklearn.preprocessing import LabelEncoder\n",
        "labelencoder = LabelEncoder()\n",
        "# Load label encoder classes\n",
        "labelencoder.classes_ = np.load('csv file\\classes.npy')\n",
        "\n",
        "def preprocess_audio(file_path):\n",
        "    audio, sample_rate = librosa.load(file_path, res_type='kaiser_fast')\n",
        "    mfccs_features = librosa.feature.mfcc(y=audio, sr=sample_rate, n_mfcc=40)\n",
        "    mfccs_scaled_features = np.mean(mfccs_features.T, axis=0)\n",
        "    return mfccs_scaled_features\n",
        "\n",
        "@app.route('/classify-audio', methods=['POST'])\n",
        "def classify_audio():\n",
        "    if 'audio' not in request.files:\n",
        "        return jsonify({\"error\": \"No audio file provided\"})\n",
        "\n",
        "    audio_file = request.files['audio']\n",
        "\n",
        "    if audio_file.filename == '':\n",
        "        return jsonify({\"error\": \"Empty audio file name\"})\n",
        "\n",
        "    try:\n",
        "        input_features = preprocess_audio(audio_file)\n",
        "        input_features = np.expand_dims(input_features, axis=0)  # Add a batch dimension\n",
        "\n",
        "        print(input_features)\n",
        "\n",
        "        # Load the class labels from your CSV file or use the same labels used in training\n",
        "        metadata = pd.read_csv('csv file\\Book1.csv')\n",
        "        class_labels = metadata['Species'].unique()\n",
        "\n",
        "        print(class_labels)\n",
        "\n",
        "        # Create a label encoder and fit it with the class labels\n",
        "        labelencoder = LabelEncoder()\n",
        "        labelencoder.fit(class_labels)\n",
        "\n",
        "        # Make predictions using the loaded model\n",
        "        predictions = model.predict(input_features)\n",
        "\n",
        "        print(predictions)\n",
        "        # Inverse transform the label encoding to get the predicted class\n",
        "        predicted_class = int(labelencoder.inverse_transform(np.argmax(predictions, axis=1)))\n",
        "        return jsonify({\"class\": predicted_class})\n",
        "    except Exception as e:\n",
        "        return jsonify({\"error\": str(e)})\n",
        "\n",
        "if __name__ == \"__main__\":\n",
        "    app.run(host='0.0.0.0', port=5000)"
      ]
    },
    {
      "cell_type": "code",
      "execution_count": null,
      "metadata": {
        "colab": {
          "base_uri": "https://localhost:8080/"
        },
        "id": "Hw_sj-hwu-Sn",
        "outputId": "730143cb-1c01-4cb4-c57b-2e06fed05e35"
      },
      "outputs": [
        {
          "name": "stdout",
          "output_type": "stream",
          "text": [
            "Drive already mounted at /content/drive; to attempt to forcibly remount, call drive.mount(\"/content/drive\", force_remount=True).\n"
          ]
        }
      ],
      "source": [
        "from google.colab import drive\n",
        "drive.mount('/content/drive')"
      ]
    }
  ],
  "metadata": {
    "accelerator": "GPU",
    "colab": {
      "gpuType": "T4",
      "provenance": []
    },
    "kernelspec": {
      "display_name": "Python 3",
      "name": "python3"
    },
    "language_info": {
      "codemirror_mode": {
        "name": "ipython",
        "version": 3
      },
      "file_extension": ".py",
      "mimetype": "text/x-python",
      "name": "python",
      "nbconvert_exporter": "python",
      "pygments_lexer": "ipython3",
      "version": "3.11.5"
    }
  },
  "nbformat": 4,
  "nbformat_minor": 0
}
